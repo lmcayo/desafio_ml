{
 "cells": [
  {
   "cell_type": "code",
   "execution_count": 1,
   "metadata": {},
   "outputs": [],
   "source": [
    "import pandas as pd\n",
    "import numpy as np\n",
    "from sklearn.feature_extraction.text import TfidfVectorizer\n",
    "from nltk.corpus import stopwords\n",
    "from sklearn.metrics.pairwise import pairwise_distances, cosine_similarity"
   ]
  },
  {
   "cell_type": "code",
   "execution_count": 2,
   "metadata": {},
   "outputs": [],
   "source": [
    "pd.options.display.max_colwidth = 500"
   ]
  },
  {
   "cell_type": "markdown",
   "metadata": {},
   "source": [
    "Para realizar este ejercicio, vamos a utilizar la similitud coseno.\n",
    "Primero vamos a cargar los datos de train y test"
   ]
  },
  {
   "cell_type": "code",
   "execution_count": 3,
   "metadata": {},
   "outputs": [],
   "source": [
    "df_train = pd.read_csv('../data/items_titles.csv')\n",
    "df_test = pd.read_csv('../data/items_titles_test.csv')"
   ]
  },
  {
   "cell_type": "code",
   "execution_count": 4,
   "metadata": {},
   "outputs": [
    {
     "name": "stdout",
     "output_type": "stream",
     "text": [
      "Las dimensiones de las tablas de train y test son: (30000, 1) y (10000, 1)\n"
     ]
    }
   ],
   "source": [
    "print(f'Las dimensiones de las tablas de train y test son: ' + str(df_train.shape) + ' y ' + str(df_test.shape))"
   ]
  },
  {
   "cell_type": "markdown",
   "metadata": {},
   "source": [
    "Revisamos los datos de las tablas de train y test"
   ]
  },
  {
   "cell_type": "code",
   "execution_count": 5,
   "metadata": {},
   "outputs": [
    {
     "data": {
      "text/html": [
       "<div>\n",
       "<style scoped>\n",
       "    .dataframe tbody tr th:only-of-type {\n",
       "        vertical-align: middle;\n",
       "    }\n",
       "\n",
       "    .dataframe tbody tr th {\n",
       "        vertical-align: top;\n",
       "    }\n",
       "\n",
       "    .dataframe thead th {\n",
       "        text-align: right;\n",
       "    }\n",
       "</style>\n",
       "<table border=\"1\" class=\"dataframe\">\n",
       "  <thead>\n",
       "    <tr style=\"text-align: right;\">\n",
       "      <th></th>\n",
       "      <th>ITE_ITEM_TITLE</th>\n",
       "    </tr>\n",
       "  </thead>\n",
       "  <tbody>\n",
       "    <tr>\n",
       "      <th>0</th>\n",
       "      <td>Tênis Ascension Posh Masculino - Preto E Vermelho</td>\n",
       "    </tr>\n",
       "    <tr>\n",
       "      <th>1</th>\n",
       "      <td>Tenis Para Caminhada Super Levinho Spider Corrida</td>\n",
       "    </tr>\n",
       "    <tr>\n",
       "      <th>2</th>\n",
       "      <td>Tênis Feminino Le Parc Hocks Black/ice Original Envio Já</td>\n",
       "    </tr>\n",
       "    <tr>\n",
       "      <th>3</th>\n",
       "      <td>Tênis Olympikus Esportivo Academia Nova Tendência Triunfo</td>\n",
       "    </tr>\n",
       "    <tr>\n",
       "      <th>4</th>\n",
       "      <td>Inteligente Led Bicicleta Tauda Luz Usb Bicicleta Carregáve</td>\n",
       "    </tr>\n",
       "  </tbody>\n",
       "</table>\n",
       "</div>"
      ],
      "text/plain": [
       "                                                ITE_ITEM_TITLE\n",
       "0           Tênis Ascension Posh Masculino - Preto E Vermelho \n",
       "1           Tenis Para Caminhada Super Levinho Spider Corrida \n",
       "2     Tênis Feminino Le Parc Hocks Black/ice Original Envio Já\n",
       "3   Tênis Olympikus Esportivo Academia Nova Tendência Triunfo \n",
       "4  Inteligente Led Bicicleta Tauda Luz Usb Bicicleta Carregáve"
      ]
     },
     "execution_count": 5,
     "metadata": {},
     "output_type": "execute_result"
    }
   ],
   "source": [
    "df_train.head()"
   ]
  },
  {
   "cell_type": "code",
   "execution_count": 6,
   "metadata": {},
   "outputs": [
    {
     "data": {
      "text/html": [
       "<div>\n",
       "<style scoped>\n",
       "    .dataframe tbody tr th:only-of-type {\n",
       "        vertical-align: middle;\n",
       "    }\n",
       "\n",
       "    .dataframe tbody tr th {\n",
       "        vertical-align: top;\n",
       "    }\n",
       "\n",
       "    .dataframe thead th {\n",
       "        text-align: right;\n",
       "    }\n",
       "</style>\n",
       "<table border=\"1\" class=\"dataframe\">\n",
       "  <thead>\n",
       "    <tr style=\"text-align: right;\">\n",
       "      <th></th>\n",
       "      <th>ITE_ITEM_TITLE</th>\n",
       "    </tr>\n",
       "  </thead>\n",
       "  <tbody>\n",
       "    <tr>\n",
       "      <th>0</th>\n",
       "      <td>Tênis Olympikus Esporte Valente - Masculino Kids</td>\n",
       "    </tr>\n",
       "    <tr>\n",
       "      <th>1</th>\n",
       "      <td>Bicicleta Barra Forte Samy C/ 6 Marchas Cubo C/ Rolamento</td>\n",
       "    </tr>\n",
       "    <tr>\n",
       "      <th>2</th>\n",
       "      <td>Tênis Usthemp Slip-on Temático - Labrador 2</td>\n",
       "    </tr>\n",
       "    <tr>\n",
       "      <th>3</th>\n",
       "      <td>Tênis Casual Feminino Moleca Tecido Tie Dye</td>\n",
       "    </tr>\n",
       "    <tr>\n",
       "      <th>4</th>\n",
       "      <td>Tênis Star Baby Sapatinho Conforto + Brinde</td>\n",
       "    </tr>\n",
       "  </tbody>\n",
       "</table>\n",
       "</div>"
      ],
      "text/plain": [
       "                                              ITE_ITEM_TITLE\n",
       "0           Tênis Olympikus Esporte Valente - Masculino Kids\n",
       "1  Bicicleta Barra Forte Samy C/ 6 Marchas Cubo C/ Rolamento\n",
       "2               Tênis Usthemp Slip-on Temático - Labrador 2\n",
       "3                Tênis Casual Feminino Moleca Tecido Tie Dye\n",
       "4                Tênis Star Baby Sapatinho Conforto + Brinde"
      ]
     },
     "execution_count": 6,
     "metadata": {},
     "output_type": "execute_result"
    }
   ],
   "source": [
    "df_test.head()"
   ]
  },
  {
   "cell_type": "code",
   "execution_count": 7,
   "metadata": {},
   "outputs": [],
   "source": [
    "### Removemos caracteres especiales en train\n",
    "\n",
    "df_train['ITE_ITEM_TITLE'] = df_train['ITE_ITEM_TITLE'].str.replace('[^\\w\\s]','')"
   ]
  },
  {
   "cell_type": "code",
   "execution_count": 8,
   "metadata": {},
   "outputs": [],
   "source": [
    "## Removemos duplicados\n",
    "df_train = df_train.drop_duplicates()"
   ]
  },
  {
   "cell_type": "markdown",
   "metadata": {},
   "source": [
    "Los titulos de los items estan en portugues, por eso utilizamos stopwords de ese idioma. "
   ]
  },
  {
   "cell_type": "code",
   "execution_count": 9,
   "metadata": {},
   "outputs": [],
   "source": [
    "portuguese_stopwords = stopwords.words('portuguese')"
   ]
  },
  {
   "cell_type": "code",
   "execution_count": 10,
   "metadata": {},
   "outputs": [],
   "source": [
    "##Instanciamos el Vectorizador\n",
    "tdidf = TfidfVectorizer(stop_words=portuguese_stopwords)"
   ]
  },
  {
   "cell_type": "code",
   "execution_count": 11,
   "metadata": {},
   "outputs": [],
   "source": [
    "##Creamos el vector a partir de los datos de train\n",
    "vector = tdidf.fit_transform(df_train.ITE_ITEM_TITLE.to_list())"
   ]
  },
  {
   "cell_type": "code",
   "execution_count": 12,
   "metadata": {},
   "outputs": [],
   "source": [
    "##Guardamos el vocabulario aunque no es necesario hacerlo en este caso\n",
    "vocab = tdidf.get_feature_names()"
   ]
  },
  {
   "cell_type": "code",
   "execution_count": 13,
   "metadata": {},
   "outputs": [],
   "source": [
    "##Transformamos los items del conjunto de test utilizando el objeto ya creado a partir del conjunto de entrenamiento\n",
    "test_matrix = tdidf.transform(df_test['ITE_ITEM_TITLE'])"
   ]
  },
  {
   "cell_type": "code",
   "execution_count": 14,
   "metadata": {},
   "outputs": [],
   "source": [
    "## Calculamos la similitud coseno entre los items del conjunto de test\n",
    "similarity_matrix_test = cosine_similarity(test_matrix)"
   ]
  },
  {
   "cell_type": "code",
   "execution_count": 15,
   "metadata": {},
   "outputs": [
    {
     "data": {
      "text/plain": [
       "(10000, 10000)"
      ]
     },
     "execution_count": 15,
     "metadata": {},
     "output_type": "execute_result"
    }
   ],
   "source": [
    "similarity_matrix_test.shape"
   ]
  },
  {
   "cell_type": "code",
   "execution_count": 16,
   "metadata": {},
   "outputs": [],
   "source": [
    "##Se convierte a dataframe\n",
    "\n",
    "df_similitud = pd.DataFrame(similarity_matrix_test, \n",
    "                            columns=df_test['ITE_ITEM_TITLE'], \n",
    "                            index=df_test['ITE_ITEM_TITLE'])"
   ]
  },
  {
   "cell_type": "code",
   "execution_count": 17,
   "metadata": {},
   "outputs": [],
   "source": [
    "##Se elimina la matriz de similitud de test para reducir los recursos utilizados\n",
    "del similarity_matrix_test"
   ]
  },
  {
   "cell_type": "code",
   "execution_count": 18,
   "metadata": {},
   "outputs": [],
   "source": [
    "##Se renombran los axis de columnas y filas para poder hacer un stack y evitar errores con los nombres de las columnas\n",
    "df_similitud = df_similitud.rename_axis('ITE_ITEM_TITLE1', axis=0)\n",
    "df_similitud = df_similitud.rename_axis('ITE_ITEM_TITLE2', axis=1)"
   ]
  },
  {
   "cell_type": "code",
   "execution_count": 19,
   "metadata": {},
   "outputs": [],
   "source": [
    "##Reemplazamos la diagonal inferior por nulos para poder obtener valores únicos de cruce de items\n",
    "##De esta forma eliminamos los casos donde el item 1 y el item 2 son los mismos o los casos duplicados (donde cambia\n",
    "## el orden de los items pero el score es el mismo)\n",
    "m, n = df_similitud.shape\n",
    "df_similitud[:] = np.where(np.arange(m)[:,None] >= np.arange(n),np.nan,df_similitud)"
   ]
  },
  {
   "cell_type": "code",
   "execution_count": 20,
   "metadata": {},
   "outputs": [],
   "source": [
    "##Se hace un stack y se renombra la columna\n",
    "df_similitud = df_similitud.stack().reset_index()\n",
    "df_similitud = df_similitud.rename(columns={0:'score_similitud'})"
   ]
  },
  {
   "cell_type": "code",
   "execution_count": 21,
   "metadata": {},
   "outputs": [],
   "source": [
    "##Se reordenan los valores de manera descendente\n",
    "df_similitud = df_similitud.sort_values('score_similitud', ascending=False)"
   ]
  },
  {
   "cell_type": "code",
   "execution_count": 22,
   "metadata": {},
   "outputs": [
    {
     "data": {
      "text/html": [
       "<div>\n",
       "<style scoped>\n",
       "    .dataframe tbody tr th:only-of-type {\n",
       "        vertical-align: middle;\n",
       "    }\n",
       "\n",
       "    .dataframe tbody tr th {\n",
       "        vertical-align: top;\n",
       "    }\n",
       "\n",
       "    .dataframe thead th {\n",
       "        text-align: right;\n",
       "    }\n",
       "</style>\n",
       "<table border=\"1\" class=\"dataframe\">\n",
       "  <thead>\n",
       "    <tr style=\"text-align: right;\">\n",
       "      <th></th>\n",
       "      <th>ITE_ITEM_TITLE1</th>\n",
       "      <th>ITE_ITEM_TITLE2</th>\n",
       "      <th>score_similitud</th>\n",
       "    </tr>\n",
       "  </thead>\n",
       "  <tbody>\n",
       "    <tr>\n",
       "      <th>31536644</th>\n",
       "      <td>Tênis Feminino Activtta Cataluna Corrida Esportivo 4811</td>\n",
       "      <td>Tênis Corrida Activtta Feminino Cataluna Esportivo 4811-204</td>\n",
       "      <td>1.0</td>\n",
       "    </tr>\n",
       "    <tr>\n",
       "      <th>29898207</th>\n",
       "      <td>Caloi Explorer Comp 2021 18v Alivio</td>\n",
       "      <td>Caloi Explorer Comp 18v Alivio 2021</td>\n",
       "      <td>1.0</td>\n",
       "    </tr>\n",
       "    <tr>\n",
       "      <th>11297721</th>\n",
       "      <td>Tênis Feminino Torricella Preto</td>\n",
       "      <td>Tênis Feminino Preto 1579a - Torricella</td>\n",
       "      <td>1.0</td>\n",
       "    </tr>\n",
       "    <tr>\n",
       "      <th>23926224</th>\n",
       "      <td>Tênis Infantil Masculino Molekinho</td>\n",
       "      <td>Tênis Molekinho Infantil Masculino 260910318718</td>\n",
       "      <td>1.0</td>\n",
       "    </tr>\n",
       "    <tr>\n",
       "      <th>16660149</th>\n",
       "      <td>Tênis Feminino Kolosh C1323a</td>\n",
       "      <td>Tênis Feminino Kolosh Arya</td>\n",
       "      <td>1.0</td>\n",
       "    </tr>\n",
       "    <tr>\n",
       "      <th>6184413</th>\n",
       "      <td>Tênis - Schutz</td>\n",
       "      <td>Tênis Schutz.</td>\n",
       "      <td>1.0</td>\n",
       "    </tr>\n",
       "    <tr>\n",
       "      <th>37336476</th>\n",
       "      <td>Sapatenis Masculino Da Polo Lançamento 30% Off</td>\n",
       "      <td>Sapatenis Masculino Da Polo Lançamento 30% Off</td>\n",
       "      <td>1.0</td>\n",
       "    </tr>\n",
       "    <tr>\n",
       "      <th>16660208</th>\n",
       "      <td>Tênis Feminino Kolosh C1323a</td>\n",
       "      <td>Tênis Kolosh Worthy Feminino - K8485</td>\n",
       "      <td>1.0</td>\n",
       "    </tr>\n",
       "    <tr>\n",
       "      <th>10835915</th>\n",
       "      <td>Tênis Hocks - Flat Lite Tan</td>\n",
       "      <td>Tênis Hocks Flat Lite Tan Gl14</td>\n",
       "      <td>1.0</td>\n",
       "    </tr>\n",
       "    <tr>\n",
       "      <th>16929244</th>\n",
       "      <td>Tênis Modare Ultraconforto</td>\n",
       "      <td>Tênis Modare Ultraconforto Geltch</td>\n",
       "      <td>1.0</td>\n",
       "    </tr>\n",
       "    <tr>\n",
       "      <th>25015074</th>\n",
       "      <td>Tênis Olympikus Easy Feminino Academia Caminhada Conforto650</td>\n",
       "      <td>Tênis Easy Olympikus Feminino Academia Caminhada Conforto650</td>\n",
       "      <td>1.0</td>\n",
       "    </tr>\n",
       "    <tr>\n",
       "      <th>47182448</th>\n",
       "      <td>Tênis Esportivo Activtta Masculino Cataluna Corrida</td>\n",
       "      <td>Tênis Activtta Corrida Masculino Esportivo Cataluna</td>\n",
       "      <td>1.0</td>\n",
       "    </tr>\n",
       "    <tr>\n",
       "      <th>37200377</th>\n",
       "      <td>Tênis M.officer Masculino</td>\n",
       "      <td>Tênis Masculino Zhe</td>\n",
       "      <td>1.0</td>\n",
       "    </tr>\n",
       "    <tr>\n",
       "      <th>42888807</th>\n",
       "      <td>Tênis Balenciaga Triple</td>\n",
       "      <td>Balenciaga Tênis Triple S</td>\n",
       "      <td>1.0</td>\n",
       "    </tr>\n",
       "    <tr>\n",
       "      <th>36798477</th>\n",
       "      <td>Tênis Sapatênis Casual Feminina  Chiqui  7890263</td>\n",
       "      <td>Tênis Sapatênis Casual Feminina  Chiqui  7890236</td>\n",
       "      <td>1.0</td>\n",
       "    </tr>\n",
       "    <tr>\n",
       "      <th>47911090</th>\n",
       "      <td>Tênis Lindo</td>\n",
       "      <td>Lindo Tênis</td>\n",
       "      <td>1.0</td>\n",
       "    </tr>\n",
       "    <tr>\n",
       "      <th>22878917</th>\n",
       "      <td>Tênis Camuflado Preto Esportivo Masculino Actvitta</td>\n",
       "      <td>Tênis Esportivo Masculino Camuflado Preto Actvitta</td>\n",
       "      <td>1.0</td>\n",
       "    </tr>\n",
       "    <tr>\n",
       "      <th>20162272</th>\n",
       "      <td>Zapatillas De Hombre Ligeras Y Transpirables-21907</td>\n",
       "      <td>Zapatillas De Hombre Ligeras Y Transpirables-20331</td>\n",
       "      <td>1.0</td>\n",
       "    </tr>\n",
       "    <tr>\n",
       "      <th>5555154</th>\n",
       "      <td>Tênis Infantil Masculino Kids E Baby M1230</td>\n",
       "      <td>Tênis Infantil Masculino Kids E Baby M1065</td>\n",
       "      <td>1.0</td>\n",
       "    </tr>\n",
       "    <tr>\n",
       "      <th>11315110</th>\n",
       "      <td>Tenis Infantil Tênis Feminino Promoção Brinde Bolsa P Não Pe</td>\n",
       "      <td>Tenis Infantil Tênis Feminino Promoção Brinde Bolsa U Não Pe</td>\n",
       "      <td>1.0</td>\n",
       "    </tr>\n",
       "  </tbody>\n",
       "</table>\n",
       "</div>"
      ],
      "text/plain": [
       "                                                       ITE_ITEM_TITLE1  \\\n",
       "31536644       Tênis Feminino Activtta Cataluna Corrida Esportivo 4811   \n",
       "29898207                           Caloi Explorer Comp 2021 18v Alivio   \n",
       "11297721                              Tênis Feminino Torricella Preto    \n",
       "23926224                           Tênis Infantil Masculino Molekinho    \n",
       "16660149                                  Tênis Feminino Kolosh C1323a   \n",
       "6184413                                                Tênis - Schutz    \n",
       "37336476                Sapatenis Masculino Da Polo Lançamento 30% Off   \n",
       "16660208                                  Tênis Feminino Kolosh C1323a   \n",
       "10835915                                   Tênis Hocks - Flat Lite Tan   \n",
       "16929244                                    Tênis Modare Ultraconforto   \n",
       "25015074  Tênis Olympikus Easy Feminino Academia Caminhada Conforto650   \n",
       "47182448          Tênis Esportivo Activtta Masculino Cataluna Corrida    \n",
       "37200377                                     Tênis M.officer Masculino   \n",
       "42888807                                      Tênis Balenciaga Triple    \n",
       "36798477              Tênis Sapatênis Casual Feminina  Chiqui  7890263   \n",
       "47911090                                                   Tênis Lindo   \n",
       "22878917            Tênis Camuflado Preto Esportivo Masculino Actvitta   \n",
       "20162272            Zapatillas De Hombre Ligeras Y Transpirables-21907   \n",
       "5555154                     Tênis Infantil Masculino Kids E Baby M1230   \n",
       "11315110  Tenis Infantil Tênis Feminino Promoção Brinde Bolsa P Não Pe   \n",
       "\n",
       "                                                       ITE_ITEM_TITLE2  \\\n",
       "31536644   Tênis Corrida Activtta Feminino Cataluna Esportivo 4811-204   \n",
       "29898207                           Caloi Explorer Comp 18v Alivio 2021   \n",
       "11297721                       Tênis Feminino Preto 1579a - Torricella   \n",
       "23926224               Tênis Molekinho Infantil Masculino 260910318718   \n",
       "16660149                                    Tênis Feminino Kolosh Arya   \n",
       "6184413                                                  Tênis Schutz.   \n",
       "37336476               Sapatenis Masculino Da Polo Lançamento 30% Off    \n",
       "16660208                          Tênis Kolosh Worthy Feminino - K8485   \n",
       "10835915                                Tênis Hocks Flat Lite Tan Gl14   \n",
       "16929244                             Tênis Modare Ultraconforto Geltch   \n",
       "25015074  Tênis Easy Olympikus Feminino Academia Caminhada Conforto650   \n",
       "47182448          Tênis Activtta Corrida Masculino Esportivo Cataluna    \n",
       "37200377                                           Tênis Masculino Zhe   \n",
       "42888807                                    Balenciaga Tênis Triple S    \n",
       "36798477              Tênis Sapatênis Casual Feminina  Chiqui  7890236   \n",
       "47911090                                                  Lindo Tênis    \n",
       "22878917            Tênis Esportivo Masculino Camuflado Preto Actvitta   \n",
       "20162272            Zapatillas De Hombre Ligeras Y Transpirables-20331   \n",
       "5555154                     Tênis Infantil Masculino Kids E Baby M1065   \n",
       "11315110  Tenis Infantil Tênis Feminino Promoção Brinde Bolsa U Não Pe   \n",
       "\n",
       "          score_similitud  \n",
       "31536644              1.0  \n",
       "29898207              1.0  \n",
       "11297721              1.0  \n",
       "23926224              1.0  \n",
       "16660149              1.0  \n",
       "6184413               1.0  \n",
       "37336476              1.0  \n",
       "16660208              1.0  \n",
       "10835915              1.0  \n",
       "16929244              1.0  \n",
       "25015074              1.0  \n",
       "47182448              1.0  \n",
       "37200377              1.0  \n",
       "42888807              1.0  \n",
       "36798477              1.0  \n",
       "47911090              1.0  \n",
       "22878917              1.0  \n",
       "20162272              1.0  \n",
       "5555154               1.0  \n",
       "11315110              1.0  "
      ]
     },
     "execution_count": 22,
     "metadata": {},
     "output_type": "execute_result"
    }
   ],
   "source": [
    "##Se muestran los primeros 20 resultados\n",
    "df_similitud.head(20)"
   ]
  },
  {
   "cell_type": "code",
   "execution_count": null,
   "metadata": {},
   "outputs": [],
   "source": []
  }
 ],
 "metadata": {
  "kernelspec": {
   "display_name": "Python 3",
   "language": "python",
   "name": "python3"
  },
  "language_info": {
   "codemirror_mode": {
    "name": "ipython",
    "version": 3
   },
   "file_extension": ".py",
   "mimetype": "text/x-python",
   "name": "python",
   "nbconvert_exporter": "python",
   "pygments_lexer": "ipython3",
   "version": "3.6.8"
  }
 },
 "nbformat": 4,
 "nbformat_minor": 2
}
